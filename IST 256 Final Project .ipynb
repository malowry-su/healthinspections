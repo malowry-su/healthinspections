{
 "cells": [
  {
   "cell_type": "code",
   "execution_count": 1,
   "metadata": {
    "collapsed": false
   },
   "outputs": [
    {
     "name": "stdout",
     "output_type": "stream",
     "text": [
      "Type the name of a restaurant in Onondaga County: Alto Cinco\n",
      "\n",
      "This restaurant has a B grade, so just make sure the waiter washes their hands. \n",
      "\n",
      "It had 7 non critical violations and\n",
      "0 critical violations, with a total of 14 points.\n",
      "\n",
      "For details on those violations, visit https://health.data.ny.gov and type Food Inspections into the search bar.\n"
     ]
    }
   ],
   "source": [
    "# These lines of code import requests, json files, and folium files, as well as the NY Health Inspection API.\n",
    "\n",
    "import requests\n",
    "import json\n",
    "import folium\n",
    "url = 'https://health.data.ny.gov/resource/f285-x9ha.json?county=ONONDAGA'\n",
    "response = requests.get(url)\n",
    "joints = response.json()\n",
    "\n",
    "# This code takes those same files, and creates the getRestaurantDetails function, which pulls all the details of a \n",
    "# typed restaurant from the API.\n",
    "\n",
    "def getRestaurantDetails(restaurant):\n",
    "    url = 'https://health.data.ny.gov/resource/f285-x9ha.json?county=ONONDAGA&operation_name=' + restaurant \n",
    "    response = requests.get(url)\n",
    "    joint = response.json()\n",
    "\n",
    "    return joint\n",
    "\n",
    "# These two functions get the critical violations and noncritical violations from the API list of details.\n",
    "\n",
    "def get_crit_violations(rDetail):\n",
    "\n",
    "    critical_violations = rDetail['total_critical_violations']\n",
    "    \n",
    "    return int(critical_violations)\n",
    "\n",
    "def get_noncrit_violations(rDetail):\n",
    "\n",
    "    noncritical_violations = rDetail['total_noncritical_violations']\n",
    "    \n",
    "    return int(noncritical_violations)\n",
    "\n",
    "# This function adds up the violations and puts them into a formula to create a score for the restaurant.\n",
    "\n",
    "def calculate_score(num_noncrit_violations, num_crit_violations):\n",
    "    total = (num_noncrit_violations * 2) + (num_crit_violations * 5) \n",
    "    return total\n",
    "\n",
    "# This section asks for the user to input a restaurant name, and then pulls the violations for that specific restaurant.\n",
    "\n",
    "try:\n",
    "\n",
    "    rDetails = getRestaurantDetails(input(\"Type the name of a restaurant in Onondaga County: \"))\n",
    "\n",
    "    num_crit_violations = get_crit_violations(rDetails[0]) \n",
    "    num_noncrit_violations = get_noncrit_violations(rDetails[0]) \n",
    "\n",
    "    total = calculate_score(num_noncrit_violations, num_crit_violations)\n",
    "    total\n",
    "\n",
    "# These if and elif statements determine the grade of the restaurant based on the total score calculated.\n",
    "\n",
    "    if total < 14:\n",
    "        print()\n",
    "        print('This restaurant has an A grade, so eat up ! ')\n",
    "\n",
    "    elif total > 27:\n",
    "        print()\n",
    "        print(\"This restaurant has a C grade, so whatever you're eating better be worth it. \")\n",
    "\n",
    "    else:\n",
    "        print()\n",
    "        print('This restaurant has a B grade, so just make sure the waiter washes their hands. ')\n",
    "\n",
    "# These lines of code print out the statement telling the user the letter grade, the number of violations\n",
    "# and the total number of points, because a B grade with 15 points is much better than a B with 26 points. \n",
    "    \n",
    "    print()\n",
    "    print('It had', num_noncrit_violations, 'non critical violations and')\n",
    "    print(num_crit_violations, 'critical violations, with a total of', total,'points.')\n",
    "    print()\n",
    "    print('For details on those violations, visit https://health.data.ny.gov and type Food Inspections into the search bar.')\n",
    "    \n",
    "# This statement refernces the try statement earlier, informs the user if they spelled a restaurant incorrectly, \n",
    "# and advises them to check the NY state health website for the correct operation name \n",
    "# Example - Varsity on Marshall Street is actually listed as Varsity Coffee Shop. \n",
    "\n",
    "except IndexError:\n",
    "    print()\n",
    "    print(\"Whoops ! If a score and grade don't pop up, try spelling the name differently, or check the official facility name at          https://health.data.ny.gov by searching Food Inspection.\")\n",
    "\n",
    "\n",
    "# All three of the group memeber worked on the project togetehr and in person. Trust me, there's no way\n",
    "# we figure all this out if we weren't brainstorming directly with each other. And shoutout to Nick, the \n",
    "# TAs and our peers for help and advice along the way. \n",
    "\n",
    "\n",
    "\n"
   ]
  },
  {
   "cell_type": "code",
   "execution_count": null,
   "metadata": {
    "collapsed": true
   },
   "outputs": [],
   "source": []
  }
 ],
 "metadata": {
  "kernelspec": {
   "display_name": "Python 3",
   "language": "python",
   "name": "python3"
  },
  "language_info": {
   "codemirror_mode": {
    "name": "ipython",
    "version": 3
   },
   "file_extension": ".py",
   "mimetype": "text/x-python",
   "name": "python",
   "nbconvert_exporter": "python",
   "pygments_lexer": "ipython3",
   "version": "3.5.2"
  }
 },
 "nbformat": 4,
 "nbformat_minor": 2
}
